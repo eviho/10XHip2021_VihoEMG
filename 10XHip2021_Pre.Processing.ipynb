{
 "cells": [
  {
   "cell_type": "markdown",
   "metadata": {},
   "source": [
    "# Standard pre-processing\n",
    "\n",
    "The present study is based on the 10X scRNA-seq dataset published by the Allen Institute for Brain Science and publicly available at: https://portal.brain-map.org/atlases-and-data/RNA-seq/mouse-whole-cortex-and-hippocampus-10x. The data was then clustered, and cluster names were assigned based on the Allen Institute proposal for cell type nomenclature (https://portal.brain-map.org/explore/classes/nomenclature). The topology of the taxonomy allowed to define the sex of the mouse from which the cells were isolated, the regions of interest, cell classes (glutamatergic, GABAergic or Non-Neuronal) and subclasses. This information was stored in the metadata table. \n",
    "\n",
    "# Description\n",
    "\n",
    "Here we describe how we used the metadata to subset cells of the hippocampus region from the gene expression matrix. We selected for 13 subclasses of hippocampal cells. The hippocampus gene count matrix consisted of 77001 cells for 26139 genes, and was pre-processed in R v3.6.1 according to the Seurat v3.1.5 standard pre-processing workflow for quality control, normalization, and analysis of scRNA-seq data, as also described here below. We performed principal component analysis (PCA), and we selected the top 50 PCs as input for the t-distributed stochastic neighbor embedding (t-SNE) dimensional reduction.\n",
    "\n",
    "# Data availability\n",
    "\n",
    "The matrix and the metadata are available for download at: https://portal.brain-map.org/atlases-and-data/RNA-seq/mouse-whole-cortex-and-hippocampus-10x"
   ]
  },
  {
   "cell_type": "markdown",
   "metadata": {},
   "source": [
    "# Required packages"
   ]
  },
  {
   "cell_type": "code",
   "execution_count": null,
   "metadata": {},
   "outputs": [],
   "source": [
    "# Required libraries\n",
    "library(vroom)\n",
    "library(dplyr)\n",
    "library(Seurat)\n",
    "library(tidyverse)\n",
    "library(ggplot2)"
   ]
  },
  {
   "cell_type": "markdown",
   "metadata": {},
   "source": [
    "# 1. Create a matrix with only cells from the hippocampus"
   ]
  },
  {
   "cell_type": "code",
   "execution_count": null,
   "metadata": {},
   "outputs": [],
   "source": [
    "# Load matrix and metadata (csv. files) dowloaded from the portal brain map\n",
    "metadata <- vroom(\"metadata_10X.csv\")\n",
    "matrix <- vroom(\"matrix_10X.csv\")"
   ]
  },
  {
   "cell_type": "markdown",
   "metadata": {},
   "source": [
    "### 1.1 Prepare matrix"
   ]
  },
  {
   "cell_type": "code",
   "execution_count": null,
   "metadata": {},
   "outputs": [],
   "source": [
    "# Look at the design of the matrix and the metadata\n",
    "head(matrix)[1:4]\n",
    "head(metadata)[1:4]\n",
    "\n",
    "# Change rownames with \"sample_name\"(= cell id)\n",
    "matrix <- matrix %>% remove_rownames %>% column_to_rownames(var=\"sample_name\")"
   ]
  },
  {
   "cell_type": "markdown",
   "metadata": {},
   "source": [
    "### 1.2 Subset the hippocampal cells from the matrix using metadata"
   ]
  },
  {
   "cell_type": "code",
   "execution_count": null,
   "metadata": {},
   "outputs": [],
   "source": [
    "# Create a list with cell names that belong to the hippocampus\n",
    "HIP <- metadata$sample_name[metadata$region_label == \"HIP\"]\n",
    "\n",
    "# Use the list HIP to subset the hippocampal cells from the all matrix \n",
    "matrix_hip <- matrix[HIP,]\n",
    "dim(matrix_hip)  # Dimensions should be 77434 31053\n",
    "\n",
    "# Change underscores to dashes for matrix rownames\n",
    "rownames(matrix_hip) <- gsub(\"_\",\"-\", rownames(matrix_hip))\n",
    "\n",
    "# Create seurat object of the matrix_hip\n",
    "hip.seurat <- CreateSeuratObject(counts = t(matrix_hip), min.cells = 1, min.features = 100)"
   ]
  },
  {
   "cell_type": "markdown",
   "metadata": {},
   "source": [
    "### 1.3 Prepare and subset the metadata before proceeding to AddMetaData"
   ]
  },
  {
   "cell_type": "code",
   "execution_count": null,
   "metadata": {},
   "outputs": [],
   "source": [
    "# Change rownames with \"sample_name\"(= cell id)\n",
    "metadata <- metadata %>% column_to_rownames(var=\"sample_name\")\n",
    "\n",
    "# Use the list HIP to subset the hippocampal cells from the all matrix \n",
    "metadata_hip <- metadata[HIP,]\n",
    "\n",
    "# Change underscores to dashes for metadata rownames\n",
    "rownames(metadata_hip) <- gsub(\"_\",\"-\", rownames(metadata_hip))"
   ]
  },
  {
   "cell_type": "markdown",
   "metadata": {},
   "source": [
    "### 1.4 AddMetaData"
   ]
  },
  {
   "cell_type": "code",
   "execution_count": null,
   "metadata": {},
   "outputs": [],
   "source": [
    "# Class\n",
    "classLabels <- metadata_hip$class_label\n",
    "names(classLabels) <- row.names(metadata_hip)\n",
    "hip.seurat <- AddMetaData(hip.seurat, classLabels, col.name='class')\n",
    "# Subclass\n",
    "subclassLabels <- metadata_hip$subclass_label\n",
    "names(subclassLabels) <- row.names(metadata_hip)\n",
    "hip.seurat <- AddMetaData(hip.seurat, subclassLabels, col.name='subclass')\n",
    "# Cluster\n",
    "clusterLabels <- metadata_hip$cluster_label\n",
    "names(clusterLabels) <- row.names(metadata_hip)\n",
    "hip.seurat <- AddMetaData(hip.seurat, clusterLabels, col.name='cluster')\n",
    "# Sex donor\n",
    "sexLabels <- metadata_hip$donor_sex_label\n",
    "names(sexLabels) <- row.names(metadata_hip)\n",
    "hip.seurat <- AddMetaData(hip.seurat, sexLabels, col.name='sex')"
   ]
  },
  {
   "cell_type": "markdown",
   "metadata": {},
   "source": [
    "### 1.5 Save files"
   ]
  },
  {
   "cell_type": "code",
   "execution_count": null,
   "metadata": {},
   "outputs": [],
   "source": [
    "# Save Seurat object as RDS file\n",
    "saveRDS(hip.seurat, file = \"/path/file_name.rds\")\n",
    "# Save subset of metadata as tsv file\n",
    "write.table(metadata_hip, \"/path/file_name.tsv\", sep='\\t', quote=FALSE, col.names=TRUE, row.names=TRUE)"
   ]
  },
  {
   "cell_type": "markdown",
   "metadata": {},
   "source": [
    "# 2. Quality control, normalization, and dimensional reduction of the hippocampus dataset"
   ]
  },
  {
   "cell_type": "markdown",
   "metadata": {},
   "source": [
    "### 2.1 Load previously obtained unprocessed seurat object and metadata (see above)"
   ]
  },
  {
   "cell_type": "code",
   "execution_count": null,
   "metadata": {},
   "outputs": [],
   "source": [
    "# Load object\n",
    "hip.seurat <- readRDS(\"/path/file_name.rds\")\n",
    "md <- read.delim2(\"path/file_name.tsv\", sep ='\\t')\n",
    "\n",
    "# Check dimensions, rownames (genes) and colnames (cells) of the matrix\n",
    "dim(hip.seurat)\n",
    "rownames(hip.seurat)[1:3]\n",
    "colnames(hip.seurat)[1:3]"
   ]
  },
  {
   "cell_type": "markdown",
   "metadata": {},
   "source": [
    "### 2.2 Clean hippocampus subset"
   ]
  },
  {
   "cell_type": "code",
   "execution_count": null,
   "metadata": {},
   "outputs": [],
   "source": [
    "# Add a column sample_name to use metadata to subset cells\n",
    "md$sample_name <- rownames(md)\n",
    "head(md)\n",
    "\n",
    "# What are the different levels of 'subclass':\n",
    "table(md$subclass_label)\n",
    "\n",
    "# Unselect the cells we are NOT interested in based on subclasses:\n",
    "selected_cells <- md$sample_name[md$subclass_label !='' \n",
    "                                       & md$subclass_label !='CR' \n",
    "                                       & md$subclass_label !='CT SUB' \n",
    "                                       & md$subclass_label !='L2 IT RHP' \n",
    "                                       & md$subclass_label !='L2/3 IT CTX-1'\n",
    "                                       & md$subclass_label !='L2/3 IT ENTl' \n",
    "                                       & md$subclass_label !='L2/3 IT PPP' \n",
    "                                       & md$subclass_label !='L4/5 IT CTX' \n",
    "                                       & md$subclass_label !='L5 IT TPE-ENT' \n",
    "                                       & md$subclass_label !='L5 PT CTX' \n",
    "                                       & md$subclass_label !='L6 CT CTX' \n",
    "                                       & md$subclass_label !='L6 IT CTX' \n",
    "                                       & md$subclass_label !='L6b CTX' \n",
    "                                       & md$subclass_label !='NP SUB'\n",
    "                                       & md$subclass_label !='SMC-Peri'\n",
    "                                       & md$subclass_label !='Sst Chodl'\n",
    "                                       & md$subclass_label !='SUB-ProS' \n",
    "                                       & md$subclass_label !='V3d'\n",
    "                                       & md$subclass_label !='VLMC'] \n",
    "# Subset the seurat object:\n",
    "hip.seurat <- subset(hip.seurat, cells = selected_cells)\n",
    "dim(hip.seurat) # 433 cells were excluded the final dimensions should be 26139/77001\n",
    "\n",
    "# What are the new levels of 'subclass':\n",
    "table(hip.seurat@meta.data$subclass) \n",
    "# Astro, Oligo, Endo, Micro-PVM, Lamp5, Pvalb, Sncg, Sst, Vip, CA1-ProS, CA2, CA3, DG"
   ]
  },
  {
   "cell_type": "markdown",
   "metadata": {},
   "source": [
    "### 2.3 QC metrics"
   ]
  },
  {
   "cell_type": "code",
   "execution_count": null,
   "metadata": {},
   "outputs": [],
   "source": [
    "# Visualization of QC metrics\n",
    "VlnPlot(object = hip.seurat, features = c(\"nFeature_RNA\", \"nCount_RNA\"),ncol = 2,cols = 'white')\n",
    "\n",
    "# FeatureScatter to visualize feature-feature relationships.\n",
    "FeatureScatter(object = hip.seurat, feature1 = \"nCount_RNA\", \n",
    "                                     feature2 = \"nFeature_RNA\", cols = 'black')"
   ]
  },
  {
   "cell_type": "markdown",
   "metadata": {},
   "source": [
    "### 2.4 Normalisation"
   ]
  },
  {
   "cell_type": "code",
   "execution_count": null,
   "metadata": {},
   "outputs": [],
   "source": [
    "# Normalization of the data\n",
    "hip.seurat <- NormalizeData(hip.seurat, normalization.method = \"LogNormalize\", scale.factor = 10000)"
   ]
  },
  {
   "cell_type": "code",
   "execution_count": null,
   "metadata": {},
   "outputs": [],
   "source": [
    "# Identification of the high variable features (genes)\n",
    "hip.seurat <- FindVariableFeatures(hip.seurat, selection.method = \"vst\", nfeatures = 2000)"
   ]
  },
  {
   "cell_type": "code",
   "execution_count": null,
   "metadata": {},
   "outputs": [],
   "source": [
    "# Identify the 10 most highly variable genes\n",
    "top10 <- head(VariableFeatures(hip.seurat), 10)\n",
    "\n",
    "# Plot variable features with and without labels\n",
    "plot1 <- VariableFeaturePlot(hip.seurat)\n",
    "plot2 <- LabelPoints(plot = plot1, points = top10, repel = TRUE, xnudge = 0, ynudge = 0)"
   ]
  },
  {
   "cell_type": "markdown",
   "metadata": {},
   "source": [
    "### 2.5 Scaling and linear dimensional reduction"
   ]
  },
  {
   "cell_type": "code",
   "execution_count": null,
   "metadata": {},
   "outputs": [],
   "source": [
    "# Scaling the data\n",
    "all.genes <- rownames(hip.seurat)\n",
    "hip.seurat <- ScaleData(hip.seurat, features = all.genes)"
   ]
  },
  {
   "cell_type": "code",
   "execution_count": null,
   "metadata": {},
   "outputs": [],
   "source": [
    "# Perform linear dimensional reduction\n",
    "hip.seurat <- RunPCA(hip.seurat, features = VariableFeatures(object = hip.seurat))"
   ]
  },
  {
   "cell_type": "code",
   "execution_count": null,
   "metadata": {},
   "outputs": [],
   "source": [
    "# PCA\n",
    "PCA <- DimPlot(hip.seurat, reduction = \"pca\", cols = 'black')"
   ]
  },
  {
   "cell_type": "markdown",
   "metadata": {},
   "source": [
    "### 2.6 Clustering"
   ]
  },
  {
   "cell_type": "code",
   "execution_count": null,
   "metadata": {},
   "outputs": [],
   "source": [
    "# Cluster the cells\n",
    "hip.seurat <- FindNeighbors(hip.seurat, dims = 1:50)\n",
    "hip.seurat <- FindClusters(hip.seurat, resolution = 0.5)\n",
    "\n",
    "# Annotate the cell populations with subclasses\n",
    "Idents(object = hip.seurat) <- \"subclass\""
   ]
  },
  {
   "cell_type": "markdown",
   "metadata": {},
   "source": [
    "### 2.7 t-SNE and final object"
   ]
  },
  {
   "cell_type": "code",
   "execution_count": null,
   "metadata": {},
   "outputs": [],
   "source": [
    "# t-SNE reduction\n",
    "hip.seurat <- RunTSNE(hip.seurat, reduction = \"pca\", dims = 1:30, perplexity = 30, max_iter = 1000)"
   ]
  },
  {
   "cell_type": "code",
   "execution_count": null,
   "metadata": {},
   "outputs": [],
   "source": [
    "# Have a look at the t-SNE reduction\n",
    "DimPlot(hip.seurat, reduction = \"tsne\", label = FALSE, pt.size=0.5, \n",
    "                          cols=c('CA1-ProS'='skyblue', 'CA2'='lightseagreen', 'CA3'='steelblue', \n",
    "                                 'DG'='slategray2','Lamp5'='violetred4','Pvalb'='mediumvioletred',\n",
    "                                 'Sncg'='palevioletred1','Sst'='pink1','Vip'='palevioletred3', \n",
    "                                 'Endo'='forestgreen', 'Micro-PVM'='yellowgreen', 'Oligo'='orange2', \n",
    "                                 'Astro'='sienna3')) + xlim(-40,40) + ylim(-40,40)"
   ]
  },
  {
   "cell_type": "code",
   "execution_count": null,
   "metadata": {},
   "outputs": [],
   "source": [
    "# Save new Seurat object as RDS file\n",
    "saveRDS(hip.seurat, file = \"/path/file_name.rds\")"
   ]
  },
  {
   "cell_type": "markdown",
   "metadata": {},
   "source": [
    "The final processed and clustered Seurat object is available for download at:"
   ]
  }
 ],
 "metadata": {
  "kernelspec": {
   "display_name": "R",
   "language": "R",
   "name": "ir"
  },
  "language_info": {
   "codemirror_mode": "r",
   "file_extension": ".r",
   "mimetype": "text/x-r-source",
   "name": "R",
   "pygments_lexer": "r",
   "version": "3.6.1"
  }
 },
 "nbformat": 4,
 "nbformat_minor": 4
}
