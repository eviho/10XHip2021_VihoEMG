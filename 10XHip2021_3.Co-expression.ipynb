{
 "cells": [
  {
   "cell_type": "markdown",
   "metadata": {},
   "source": [
    "# Gene co-expression\n",
    "\n",
    "The present study is based on the 10X scRNA-seq dataset published by the Allen Institute for Brain Science and publicly available at: https://portal.brain-map.org/atlases-and-data/RNA-seq/mouse-whole-cortex-and-hippocampus-10x. The data was then clustered, and cluster names were assigned based on the Allen Institute proposal for cell type nomenclature (https://portal.brain-map.org/explore/classes/nomenclature). The topology of the taxonomy allowed to define the sex of the mouse from which the cells were isolated, the regions of interest, cell classes (glutamatergic, GABAergic or Non-Neuronal) and subclasses. This information was stored in the metadata table. The metadata was used to subset cells of the hippocampus region from the gene expression matrix. We selected for 13 subclasses of hippocampal cells. The hippocampus gene count matrix was pre-processed in R v3.6.1 according to the Seurat v3.1.5 standard pre-processing workflow for quality control, normalization, and analysis of scRNA-seq data (cf. 10XHip2021_Pre.Processing). \n",
    "\n",
    "# Description\n",
    "Here we describe how we obtained the matrices and figures for gene co-expression.\n",
    "\n",
    "# Data availability\n",
    "\n",
    "cf. README to download the processed and clustered Seurat object '10XHip2021_seurat.object.rds'"
   ]
  },
  {
   "cell_type": "markdown",
   "metadata": {},
   "source": [
    "### Load data and required packages"
   ]
  },
  {
   "cell_type": "code",
   "execution_count": null,
   "metadata": {},
   "outputs": [],
   "source": [
    "# Required libraries\n",
    "library(dplyr)\n",
    "library(Seurat)\n",
    "library(tidyverse)\n",
    "library(ggplot2)\n",
    "library(ComplexHeatmap)\n",
    "library(circlize)"
   ]
  },
  {
   "cell_type": "code",
   "execution_count": null,
   "metadata": {},
   "outputs": [],
   "source": [
    "# Seurat object\n",
    "hip <- readRDS(\"10XHip2021_seurat.object.rds\")"
   ]
  },
  {
   "cell_type": "markdown",
   "metadata": {},
   "source": [
    "### Description of the protocol"
   ]
  },
  {
   "cell_type": "markdown",
   "metadata": {},
   "source": [
    "1. Based of gene average expression in one cell population\n",
    "x = value of the average expression for gene 1 (Gr or Mr)\n",
    "y = value of the average expression for gene 2 (from genes)\n",
    "\n",
    "2. Add-One smoothing (additive smoothing or pseudo-count)\n",
    "X = x + 1\n",
    "Y = y + 1 \n",
    "coupling.score = X*Y\n",
    "\n",
    "3. Log scaling\n",
    "coupling.score = log10(X*Y)\n",
    "mat.gr = matrix of all coupling scores for Gr vs. genes\n",
    "mat.mr = matrix of all coupling scores for Mr vs. genes\n",
    "\n",
    "4. Normalisation/Scaling -> data scaled from 0 to 1\n",
    "max.value = max(mat.gr,mat.mr)\n",
    "min.value = min(mat.gr,mat.mr)\n",
    "mat.gr <- (mat.gr-min.value)/(max.value-min.value)\n",
    "mat.mr <- (mat.mr-min.value)/(max.value-min.value)"
   ]
  },
  {
   "cell_type": "markdown",
   "metadata": {},
   "source": [
    "### Preparation data for co-expression matrices "
   ]
  },
  {
   "cell_type": "code",
   "execution_count": null,
   "metadata": {},
   "outputs": [],
   "source": [
    "# Data for Nr3c1 (Gr) and Nr3c2 (Mr) and cell population order\n",
    "gr <- DotPlot(hip, features = \"Nr3c1\")$data\n",
    "mr <- DotPlot(hip, features = \"Nr3c2\")$data\n",
    "cells <- c(\"DG\",\"CA3\",\"CA2\",\"CA1-ProS\",\"Lamp5\",\"Vip\",\"Pvalb\",\"Sncg\",\"Sst\",\"Endo\",\"Micro-PVM\",\"Astro\",\"Oligo\")"
   ]
  },
  {
   "cell_type": "code",
   "execution_count": null,
   "metadata": {},
   "outputs": [],
   "source": [
    "# Colors heatmaps - Coupling score legend\n",
    "cols = colorRamp2(c(0,0.2,0.4,0.6,0.8,1), c('#edf8fb','#bfd3e6','#9ebcda','#8c96c6','#8856a7','#810f7c'))"
   ]
  },
  {
   "cell_type": "markdown",
   "metadata": {},
   "source": [
    "### 1. Co-expression of Nr3c1 (Gr) and Nr3c2 (Mr)"
   ]
  },
  {
   "cell_type": "code",
   "execution_count": null,
   "metadata": {},
   "outputs": [],
   "source": [
    "# Average expression of Nr3c1 (Gr) and Nr3c2 (Mr) for each cell type \n",
    "exp.gr <- c(0.8301064,0.4413372,0.2891454,1.7785128,\n",
    "            0.6756368714889,0.8505117,0.5964793,0.2967290,0.3134967,\n",
    "            2.6091935,2.0191561,1.8355961,1.5751184)\n",
    "exp.mr <- c(7.5588002,4.8497023,12.6156684,5.9415883,\n",
    "            1.7342106,3.0058529,1.2976207,3.6555187,0.6621729,\n",
    "            2.1395174,1.0176402,2.2710803,1.0245950)\n",
    "\n",
    "# Annotations average expression Nr3c1 (Gr) and Nr3c2 (Mr)\n",
    "col_ha_gr = colorRamp2(c(0,15), c(\"white\", \"#08519c\"))\n",
    "col_ha_mr = colorRamp2(c(0,15), c(\"white\", \"#08519c\"))\n",
    "expgr <- rowAnnotation(Nr3c1 = exp.gr, col = list(Nr3c1 = col_ha_gr))\n",
    "expmr <- rowAnnotation(Nr3c2 = exp.mr, col = list(Nr3c2 = col_ha_mr))\n",
    "ha_exp = rowAnnotation(Nr3c1 = exp.gr, Nr3c2 = exp.mr, col = list(Nr3c1 = col_ha_gr, Nr3c2 = col_ha_mr))\n",
    "\n",
    "# Matrix\n",
    "genes <- c(\"Nr3c1 x Nr3c2\")\n",
    "mat <- matrix(nrow = length(cells), ncol = length(genes))\n",
    "for(g in 1:length(genes)){\n",
    "    g   \n",
    "    for (r in 1:length(cells)){\n",
    "        r   \n",
    "        mat[r,g] <- log10((gr[gr$id==cells[r],1])*(mr[mr$id==cells[r],1]))\n",
    "           \n",
    "    }\n",
    "}\n",
    "\n",
    "rownames(mat) = cells\n",
    "colnames(mat) = genes\n",
    "\n",
    "\n",
    "# Normalisation\n",
    "max.value <- max(mat, na.rm = TRUE)\n",
    "min.value <- min(mat, na.rm = TRUE)\n",
    "mat <- (mat-min.value)/(max.value-min.value)\n",
    "\n",
    "# Heatmaps\n",
    "heatmap <- Heatmap(mat, cluster_rows = FALSE, row_names_side = \"left\", rect_gp = gpar(col = \"white\", lwd = 1),\n",
    "                        cluster_columns = FALSE, name = \"Coupling score\", \n",
    "                        row_names_gp = gpar(fontsize = 20), column_names_gp = gpar(fontsize = 40), \n",
    "                        column_title_gp = gpar(fill=\"white\", col=\"black\", border=\"white\"), \n",
    "                        col = cols,\n",
    "                        right_annotation = ha_exp, na_col=\"white\")"
   ]
  },
  {
   "cell_type": "markdown",
   "metadata": {},
   "source": [
    "### 2. Co-expression of Nr3c1 (Gr) and Nr3c2 (Mr) with other steroid receptors"
   ]
  },
  {
   "cell_type": "code",
   "execution_count": null,
   "metadata": {},
   "outputs": [],
   "source": [
    "# Genes of interest \n",
    "genes <- c(\"Ar\", \"Pgr\",\"Esr1\", \"Esr2\")\n",
    "\n",
    "# Subset data from dotplot and replace 0 by NA\n",
    "data <- DotPlot(hip, features = genes)$data\n",
    "data$avg.exp[data$avg.exp == 0] <- NA"
   ]
  },
  {
   "cell_type": "code",
   "execution_count": null,
   "metadata": {},
   "outputs": [],
   "source": [
    "# Matrix for GR\n",
    "mat.gr <- matrix(nrow = length(cells), ncol = length(genes))\n",
    "for(g in 1:length(genes)){\n",
    "    g   \n",
    "    for (r in 1:length(cells)){\n",
    "        r   \n",
    "        mat.gr[r,g] <- log10((gr[gr$id==cells[r],1])*(data[data$features.plot == genes[g] & data$id==cells[r],1]))\n",
    "           \n",
    "    }\n",
    "}\n",
    "\n",
    "rownames(mat.gr) = cells\n",
    "colnames(mat.gr) = genes\n",
    "\n",
    "# Matrix for MR\n",
    "mat.mr <- matrix(nrow = length(cells), ncol = length(genes))\n",
    "for(g in 1:length(genes)){\n",
    "    g   \n",
    "    for (r in 1:length(cells)){\n",
    "        r   \n",
    "        mat.mr[r,g] <- log10((mr[mr$id==cells[r],1])*(data[data$features.plot == genes[g] & data$id==cells[r],1]))\n",
    "           \n",
    "    }\n",
    "}\n",
    "\n",
    "rownames(mat.mr) = cells\n",
    "colnames(mat.mr) = genes\n",
    "\n",
    "# Normalisation\n",
    "max.value <- max(mat.gr,mat.mr, na.rm = TRUE)\n",
    "min.value <- min(mat.gr,mat.mr, na.rm = TRUE)\n",
    "mat.gr <- (mat.gr-min.value)/(max.value-min.value)\n",
    "mat.mr <- (mat.mr-min.value)/(max.value-min.value)\n",
    "\n",
    "\n",
    "# Heatmaps\n",
    "heatmap.gr <- Heatmap(mat.gr, cluster_rows = FALSE, row_names_side = \"left\", rect_gp = gpar(col = \"white\", lwd = 1),\n",
    "                      cluster_columns = FALSE, name = \"Coupling score\", column_title = \"Nr3c1\", \n",
    "                      column_title_gp = gpar(fill=\"white\", col=\"black\", border=\"white\", fontsize = 40), \n",
    "                      row_names_gp = gpar(fontsize = 40), column_names_gp = gpar(fontsize = 40), \n",
    "                      col = cols, na_col=\"white\")\n",
    "\n",
    "heatmap.mr <- Heatmap(mat.mr, cluster_rows = FALSE, row_names_side = \"left\", rect_gp = gpar(col = \"white\", lwd = 1),\n",
    "                      cluster_columns = FALSE, name = \"Coupling score\", column_title = \"Nr3c2\", \n",
    "                      column_title_gp = gpar(fill=\"white\", col=\"black\", border=\"white\", fontsize = 40), \n",
    "                      row_names_gp = gpar(fontsize = 40), column_names_gp = gpar(fontsize = 40), \n",
    "                      col = cols, na_col=\"white\")"
   ]
  },
  {
   "cell_type": "markdown",
   "metadata": {},
   "source": [
    "### 3. Co-expression of Nr3c1 (Gr) and Nr3c2 (Mr) with coregulators"
   ]
  },
  {
   "cell_type": "markdown",
   "metadata": {},
   "source": [
    "#### 3.1 Co-expression of Nr3c1 (Gr) and Nr3c2 (Mr) with all coregulators"
   ]
  },
  {
   "cell_type": "code",
   "execution_count": null,
   "metadata": {},
   "outputs": [],
   "source": [
    "# Genes of interest\n",
    "genes <- c('Brd8','Chd9','Ep300','Jmjd1c','Kat2b','Kat5','Kmt2d','Med1','Ncoa1','Ncoa2','Ncoa3',\n",
    "           'Ncoa4','Ncoa6','Ncor1','Ncor2','Nr0b1','Nrip1','Pias2','Ppargc1a','Prox1','Rad9a',\n",
    "           'Rela','Tgfb1i1','Trim24') \n",
    "\n",
    "# Subset data from dotplot and replace 0 by NA\n",
    "data <- DotPlot(hip, features = genes)$data\n",
    "data$avg.exp[data$avg.exp == 0] <- NA"
   ]
  },
  {
   "cell_type": "code",
   "execution_count": null,
   "metadata": {},
   "outputs": [],
   "source": [
    "# Matrix for GR\n",
    "mat.gr <- matrix(nrow = length(cells), ncol = length(genes))\n",
    "for(g in 1:length(genes)){\n",
    "    g   \n",
    "    for (r in 1:length(cells)){\n",
    "        r   \n",
    "        mat.gr[r,g] <- log10((gr[gr$id==cells[r],1])*(data[data$features.plot == genes[g] & data$id==cells[r],1]))\n",
    "           \n",
    "    }\n",
    "}\n",
    "\n",
    "rownames(mat.gr) = cells\n",
    "colnames(mat.gr) = genes\n",
    "\n",
    "# Matrix for MR\n",
    "mat.mr <- matrix(nrow = length(cells), ncol = length(genes))\n",
    "for(g in 1:length(genes)){\n",
    "    g   \n",
    "    for (r in 1:length(cells)){\n",
    "        r   \n",
    "        mat.mr[r,g] <- log10((mr[mr$id==cells[r],1])*(data[data$features.plot == genes[g] & data$id==cells[r],1]))\n",
    "           \n",
    "    }\n",
    "}\n",
    "\n",
    "rownames(mat.mr) = cells\n",
    "colnames(mat.mr) = genes\n",
    "\n",
    "# Normalisation\n",
    "max.value <- max(mat.gr,mat.mr, na.rm = TRUE)\n",
    "min.value <- min(mat.gr,mat.mr, na.rm = TRUE)\n",
    "mat.gr <- (mat.gr-min.value)/(max.value-min.value)\n",
    "mat.mr <- (mat.mr-min.value)/(max.value-min.value)\n",
    "\n",
    "# Heatmaps\n",
    "heatmap.gr <- Heatmap(mat.gr, cluster_rows = FALSE, row_names_side = \"left\", rect_gp = gpar(col = \"white\", lwd = 1),\n",
    "                      cluster_columns = FALSE, name = \"Coupling score\", column_title = \"Nr3c1\", \n",
    "                      column_title_gp = gpar(fill=\"white\", col=\"black\", border=\"white\", fontsize = 40), \n",
    "                      row_names_gp = gpar(fontsize = 30), column_names_gp = gpar(fontsize = 30), \n",
    "                      col = cols, na_col=\"white\")\n",
    "\n",
    "heatmap.mr <- Heatmap(mat.mr, cluster_rows = FALSE, row_names_side = \"left\", rect_gp = gpar(col = \"white\", lwd = 1),\n",
    "                      cluster_columns = FALSE, name = \"Coupling score\", column_title = \"Nr3c2\", \n",
    "                      column_title_gp = gpar(fill=\"white\", col=\"black\", border=\"white\", fontsize = 40), \n",
    "                      row_names_gp = gpar(fontsize = 30), column_names_gp = gpar(fontsize = 30), \n",
    "                      col = cols, na_col=\"white\")"
   ]
  },
  {
   "cell_type": "markdown",
   "metadata": {},
   "source": [
    "#### 3.2 Co-expression of Nr3c1 (Gr) and Nr3c2 (Mr) with a subset of coregulators"
   ]
  },
  {
   "cell_type": "code",
   "execution_count": null,
   "metadata": {},
   "outputs": [],
   "source": [
    "# Genes of interest\n",
    "genes <- c('Med1','Ncoa1','Ncoa2','Ncoa3','Ncoa4','Ncoa6','Ncor1','Ncor2')\n",
    "\n",
    "# Subset data from dotplot and replace 0 by NA\n",
    "data <- DotPlot(hip, features = genes)$data\n",
    "data$avg.exp[data$avg.exp == 0] <- NA"
   ]
  },
  {
   "cell_type": "code",
   "execution_count": null,
   "metadata": {},
   "outputs": [],
   "source": [
    "# Matrix for GR\n",
    "mat.gr <- matrix(nrow = length(cells), ncol = length(genes))\n",
    "for(g in 1:length(genes)){\n",
    "    g   \n",
    "    for (r in 1:length(cells)){\n",
    "        r   \n",
    "        mat.gr[r,g] <- log10((gr[gr$id==cells[r],1])*(data[data$features.plot == genes[g] & data$id==cells[r],1]))\n",
    "           \n",
    "    }\n",
    "}\n",
    "\n",
    "rownames(mat.gr) = cells\n",
    "colnames(mat.gr) = genes\n",
    "\n",
    "# Matrix for MR\n",
    "mat.mr <- matrix(nrow = length(cells), ncol = length(genes))\n",
    "for(g in 1:length(genes)){\n",
    "    g   \n",
    "    for (r in 1:length(cells)){\n",
    "        r   \n",
    "        mat.mr[r,g] <- log10((mr[mr$id==cells[r],1])*(data[data$features.plot == genes[g] & data$id==cells[r],1]))\n",
    "           \n",
    "    }\n",
    "}\n",
    "\n",
    "rownames(mat.mr) = cells\n",
    "colnames(mat.mr) = genes\n",
    "\n",
    "# Normalisation\n",
    "max.value <- max(mat.gr,mat.mr, na.rm = TRUE)\n",
    "min.value <- min(mat.gr,mat.mr, na.rm = TRUE)\n",
    "mat.gr <- (mat.gr-min.value)/(max.value-min.value)\n",
    "mat.mr <- (mat.mr-min.value)/(max.value-min.value)\n",
    "\n",
    "# Heatmaps\n",
    "heatmap.gr <- Heatmap(mat.gr, cluster_rows = FALSE, row_names_side = \"left\", rect_gp = gpar(col = \"white\", lwd = 1),\n",
    "                      cluster_columns = FALSE, name = \"Coupling score\", column_title = \"Nr3c1\", \n",
    "                      column_title_gp = gpar(fill=\"white\", col=\"black\", border=\"white\", fontsize = 40), \n",
    "                      row_names_gp = gpar(fontsize = 40), column_names_gp = gpar(fontsize = 40), \n",
    "                      col = cols, na_col=\"white\")\n",
    "\n",
    "heatmap.mr <- Heatmap(mat.mr, cluster_rows = FALSE, row_names_side = \"left\", rect_gp = gpar(col = \"white\", lwd = 1),\n",
    "                      cluster_columns = FALSE, name = \"Coupling score\", column_title = \"Nr3c2\", \n",
    "                      column_title_gp = gpar(fill=\"white\", col=\"black\", border=\"white\", fontsize = 40), \n",
    "                      row_names_gp = gpar(fontsize = 40), column_names_gp = gpar(fontsize = 40), \n",
    "                      col = cols, na_col=\"white\")"
   ]
  },
  {
   "cell_type": "markdown",
   "metadata": {},
   "source": [
    "### 4. Co-expression of Nr3c1 (Gr) and Nr3c2 (Mr) with neuropeptides and neurotransmitter receptors "
   ]
  },
  {
   "cell_type": "markdown",
   "metadata": {},
   "source": [
    "#### 4.1 Only in glutamatergic neurons"
   ]
  },
  {
   "cell_type": "code",
   "execution_count": null,
   "metadata": {},
   "outputs": [],
   "source": [
    "# Subset of cells\n",
    "cells <- c(\"DG\",\"CA3\",\"CA2\",\"CA1-ProS\")"
   ]
  },
  {
   "cell_type": "code",
   "execution_count": null,
   "metadata": {},
   "outputs": [],
   "source": [
    "# Genes of interest\n",
    "genes <- c(\"Adra1a\",\"Adra1b\",\"Adra1d\",\"Adra2a\",\"Adra2c\",\"Adrb1\",\"Adrb2\",\"Adrb3\", # Adrenergic receptors\n",
    "           \"Drd1\",\"Drd2\",\"Drd3\",\"Drd4\",\"Drd5\", # Dopaminergic receptors\n",
    "           \"Htr3a\",\"Htr3b\",\"Htr1a\",\"Htr1b\",\"Htr1d\",\"Htr2a\",\"Htr2b\",\"Htr2c\",\"Htr4\",\"Htr5a\",\"Htr6\",\"Htr7\",# 5-HT rec.\n",
    "           \"Chrna1\",\"Chrna2\",\"Chrna3\",\"Chrna4\",\"Chrna5\",\"Chrna7\",\"Chrna9\",\"Chrna10\",\"Chrnb1\",\"Chrnb2\",\"Chrnb3\",\n",
    "           \"Chrnb4\",\"Chrnd\",\"Chrne\",\"Chrng\",\"Chrm1\",\"Chrm2\",\"Chrm3\",\"Chrm4\",\"Chrm5\", # Cholinergic rec.\n",
    "           \"Npy1r\",\"Npy2r\",\"Npy5r\",\"Npy6r\", # NPY receptors\n",
    "           \"Sstr1\",\"Sstr2\",\"Sstr3\",\"Sstr4\",\"Sstr5\", # Somatostatin receptors\n",
    "           \"Vipr1\",\"Vipr2\",\"Adcyap1r1\", # Vasoactive intestinal peptide receptors\n",
    "           \"Tacr1\",\"Tacr2\",\"Tacr3\", # Tachykinin receptors\n",
    "           \"Agtr2\", # Angiotensin receptors\n",
    "           \"Avpr1a\",\"Avpr1b\",\"Avpr2\",\"Oxtr\", # Arginine/Vasopressin and oxytocin receptors\n",
    "           \"Oprd1\",\"Oprm1\",\"Oprk1\",\"Oprl1\", # Opioid receptors\n",
    "           \"Trhr\",\"Trhr2\", # TRH receptors\n",
    "           \"Rxfp1\",\"Rxfp2\",\"Rxfp3\", # Relaxin receptors\n",
    "           \"Ntsr1\",\"Ntsr2\", # Neurotensin receptors\n",
    "           \"Crhr1\",\"Crhr2\") # Crh receptors)\n",
    "\n",
    "# Subset data from dotplot and replace 0 by NA\n",
    "data <- DotPlot(hip, features = genes)$data\n",
    "data$avg.exp[data$avg.exp == 0] <- NA"
   ]
  },
  {
   "cell_type": "code",
   "execution_count": null,
   "metadata": {},
   "outputs": [],
   "source": [
    "# Matrix for GR\n",
    "mat.gr <- matrix(nrow = length(cells), ncol = length(genes))\n",
    "for(g in 1:length(genes)){\n",
    "    g   \n",
    "    for (r in 1:length(cells)){\n",
    "        r   \n",
    "        mat.gr[r,g] <- log10((gr[gr$id==cells[r],1])*(data[data$features.plot == genes[g] & data$id==cells[r],1]))\n",
    "           \n",
    "    }\n",
    "}\n",
    "\n",
    "rownames(mat.gr) = cells\n",
    "colnames(mat.gr) = genes\n",
    "\n",
    "# Matrix for MR\n",
    "mat.mr <- matrix(nrow = length(cells), ncol = length(genes))\n",
    "for(g in 1:length(genes)){\n",
    "    g   \n",
    "    for (r in 1:length(cells)){\n",
    "        r   \n",
    "        mat.mr[r,g] <- log10((mr[mr$id==cells[r],1])*(data[data$features.plot == genes[g] & data$id==cells[r],1]))\n",
    "           \n",
    "    }\n",
    "}\n",
    "\n",
    "rownames(mat.mr) = cells\n",
    "colnames(mat.mr) = genes\n",
    "\n",
    "# Normalisation\n",
    "max.value <- max(mat.gr,mat.mr, na.rm = TRUE)\n",
    "min.value <- min(mat.gr,mat.mr, na.rm = TRUE)\n",
    "mat.gr <- (mat.gr-min.value)/(max.value-min.value)\n",
    "mat.mr <- (mat.mr-min.value)/(max.value-min.value)\n",
    "\n",
    "# Heatmaps\n",
    "heatmap.gr <- Heatmap(mat.gr, cluster_rows = FALSE, row_names_side = \"left\", rect_gp = gpar(col = \"white\", lwd = 1),\n",
    "                      cluster_columns = FALSE, name = \"Coupling score\", column_title = \"Nr3c1\", \n",
    "                      column_title_gp = gpar(fill=\"white\", col=\"black\", border=\"white\", fontsize = 40), \n",
    "                      row_names_gp = gpar(fontsize = 30), column_names_gp = gpar(fontsize = 30), \n",
    "                      col = cols, na_col=\"white\")\n",
    "\n",
    "heatmap.mr <- Heatmap(mat.mr, cluster_rows = FALSE, row_names_side = \"left\", rect_gp = gpar(col = \"white\", lwd = 1),\n",
    "                      cluster_columns = FALSE, name = \"Coupling score\", column_title = \"Nr3c2\", \n",
    "                      column_title_gp = gpar(fill=\"white\", col=\"black\", border=\"white\", fontsize = 40), \n",
    "                      row_names_gp = gpar(fontsize = 30), column_names_gp = gpar(fontsize = 30), \n",
    "                      col = cols, na_col=\"white\")"
   ]
  },
  {
   "cell_type": "markdown",
   "metadata": {},
   "source": [
    "#### 4.2 In GABAergic neurons and non-neuronal cells"
   ]
  },
  {
   "cell_type": "code",
   "execution_count": null,
   "metadata": {},
   "outputs": [],
   "source": [
    "# Subset of cells\n",
    "cells <- c(\"Lamp5\",\"Vip\",\"Pvalb\",\"Sncg\",\"Sst\",\"Endo\",\"Micro-PVM\",\"Astro\",\"Oligo\")"
   ]
  },
  {
   "cell_type": "code",
   "execution_count": null,
   "metadata": {},
   "outputs": [],
   "source": [
    "# Genes of interest\n",
    "genes <- c(\"Adra1a\",\"Adra1b\",\"Adra1d\",\"Adra2a\",\"Adra2c\",\"Adrb1\",\"Adrb2\",\"Adrb3\", # Adrenergic receptors\n",
    "           \"Drd1\",\"Drd2\",\"Drd3\",\"Drd4\",\"Drd5\", # Dopaminergic receptors\n",
    "           \"Htr3a\",\"Htr3b\",\"Htr1a\",\"Htr1b\",\"Htr1d\",\"Htr2a\",\"Htr2b\",\"Htr2c\",\"Htr4\",\"Htr5a\",\"Htr6\",\"Htr7\",# 5-HT rec.\n",
    "           \"Chrna1\",\"Chrna2\",\"Chrna3\",\"Chrna4\",\"Chrna5\",\"Chrna7\",\"Chrna9\",\"Chrna10\",\"Chrnb1\",\"Chrnb2\",\"Chrnb3\",\n",
    "           \"Chrnb4\",\"Chrnd\",\"Chrne\",\"Chrng\",\"Chrm1\",\"Chrm2\",\"Chrm3\",\"Chrm4\",\"Chrm5\", # Cholinergic rec.\n",
    "           \"Npy1r\",\"Npy2r\",\"Npy5r\",\"Npy6r\", # NPY receptors\n",
    "           \"Sstr1\",\"Sstr2\",\"Sstr3\",\"Sstr4\",\"Sstr5\", # Somatostatin receptors\n",
    "           \"Vipr1\",\"Vipr2\",\"Adcyap1r1\", # Vasoactive intestinal peptide receptors\n",
    "           \"Tacr1\",\"Tacr2\",\"Tacr3\", # Tachykinin receptors\n",
    "           \"Agtr2\", # Angiotensin receptors\n",
    "           \"Avpr1a\",\"Avpr1b\",\"Avpr2\",\"Oxtr\", # Arginine/Vasopressin and oxytocin receptors\n",
    "           \"Oprd1\",\"Oprm1\",\"Oprk1\",\"Oprl1\", # Opioid receptors\n",
    "           \"Trhr\",\"Trhr2\", # TRH receptors\n",
    "           \"Rxfp1\",\"Rxfp2\",\"Rxfp3\", # Relaxin receptors\n",
    "           \"Ntsr1\",\"Ntsr2\", # Neurotensin receptors\n",
    "           \"Crhr1\",\"Crhr2\") # Crh receptors)\n",
    "\n",
    "# Subset data from dotplot and replace 0 by NA\n",
    "data <- DotPlot(hip, features = genes)$data\n",
    "data$avg.exp[data$avg.exp == 0] <- NA"
   ]
  },
  {
   "cell_type": "code",
   "execution_count": null,
   "metadata": {},
   "outputs": [],
   "source": [
    "# Matrix for GR\n",
    "mat.gr <- matrix(nrow = length(cells), ncol = length(genes))\n",
    "for(g in 1:length(genes)){\n",
    "    g   \n",
    "    for (r in 1:length(cells)){\n",
    "        r   \n",
    "        mat.gr[r,g] <- log10((gr[gr$id==cells[r],1])*(data[data$features.plot == genes[g] & data$id==cells[r],1]))\n",
    "           \n",
    "    }\n",
    "}\n",
    "\n",
    "rownames(mat.gr) = cells\n",
    "colnames(mat.gr) = genes\n",
    "\n",
    "# Matrix for MR\n",
    "mat.mr <- matrix(nrow = length(cells), ncol = length(genes))\n",
    "for(g in 1:length(genes)){\n",
    "    g   \n",
    "    for (r in 1:length(cells)){\n",
    "        r   \n",
    "        mat.mr[r,g] <- log10((mr[mr$id==cells[r],1])*(data[data$features.plot == genes[g] & data$id==cells[r],1]))\n",
    "           \n",
    "    }\n",
    "}\n",
    "\n",
    "rownames(mat.mr) = cells\n",
    "colnames(mat.mr) = genes\n",
    "\n",
    "# Normalisation\n",
    "max.value <- max(mat.gr,mat.mr, na.rm = TRUE)\n",
    "min.value <- min(mat.gr,mat.mr, na.rm = TRUE)\n",
    "mat.gr <- (mat.gr-min.value)/(max.value-min.value)\n",
    "mat.mr <- (mat.mr-min.value)/(max.value-min.value)\n",
    "\n",
    "# Heatmaps\n",
    "heatmap.gr <- Heatmap(mat.gr, cluster_rows = FALSE, row_names_side = \"left\", rect_gp = gpar(col = \"white\", lwd = 1),\n",
    "                      cluster_columns = FALSE, name = \"Coupling score\", column_title = \"Nr3c1\", \n",
    "                      column_title_gp = gpar(fill=\"white\", col=\"black\", border=\"white\", fontsize = 40), \n",
    "                      row_names_gp = gpar(fontsize = 30), column_names_gp = gpar(fontsize = 30), \n",
    "                      col = cols, na_col=\"white\")\n",
    "\n",
    "heatmap.mr <- Heatmap(mat.mr, cluster_rows = FALSE, row_names_side = \"left\", rect_gp = gpar(col = \"white\", lwd = 1),\n",
    "                      cluster_columns = FALSE, name = \"Coupling score\", column_title = \"Nr3c2\", \n",
    "                      column_title_gp = gpar(fill=\"white\", col=\"black\", border=\"white\", fontsize = 40), \n",
    "                      row_names_gp = gpar(fontsize = 30), column_names_gp = gpar(fontsize = 30), \n",
    "                      col = cols, na_col=\"white\")"
   ]
  }
 ],
 "metadata": {
  "kernelspec": {
   "display_name": "R",
   "language": "R",
   "name": "ir"
  },
  "language_info": {
   "codemirror_mode": "r",
   "file_extension": ".r",
   "mimetype": "text/x-r-source",
   "name": "R",
   "pygments_lexer": "r",
   "version": "3.6.1"
  }
 },
 "nbformat": 4,
 "nbformat_minor": 4
}
