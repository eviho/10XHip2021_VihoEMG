{
 "cells": [
  {
   "cell_type": "markdown",
   "metadata": {},
   "source": [
    "# Gene expression\n",
    "\n",
    "The present study is based on the 10X scRNA-seq dataset published by the Allen Institute for Brain Science and publicly available at: https://portal.brain-map.org/atlases-and-data/RNA-seq/mouse-whole-cortex-and-hippocampus-10x. The data was then clustered, and cluster names were assigned based on the Allen Institute proposal for cell type nomenclature (https://portal.brain-map.org/explore/classes/nomenclature). The topology of the taxonomy allowed to define the sex of the mouse from which the cells were isolated, the regions of interest, cell classes (glutamatergic, GABAergic or Non-Neuronal) and subclasses. This information was stored in the metadata table. The metadata was used to subset cells of the hippocampus region from the gene expression matrix. We selected for 13 subclasses of hippocampal cells. The hippocampus gene count matrix was pre-processed in R v3.6.1 according to the Seurat v3.1.5 standard pre-processing workflow for quality control, normalization, and analysis of scRNA-seq data (cf. 10XHip2021_Pre.Processing). \n",
    "\n",
    "# Description\n",
    "Here we describe how we obtained the figures for gene expression.\n",
    "\n",
    "\n",
    "# Data availability\n",
    "\n",
    "cf. README to download the processed and clustered Seurat object '10XHip2021_seurat.object.rds'"
   ]
  },
  {
   "cell_type": "markdown",
   "metadata": {},
   "source": [
    "### Load data and required packages"
   ]
  },
  {
   "cell_type": "code",
   "execution_count": null,
   "metadata": {},
   "outputs": [],
   "source": [
    "# Required libraries\n",
    "library(dplyr)\n",
    "library(Seurat)\n",
    "library(tidyverse)\n",
    "library(ggplot2)"
   ]
  },
  {
   "cell_type": "code",
   "execution_count": null,
   "metadata": {},
   "outputs": [],
   "source": [
    "# Seurat object\n",
    "hip <- readRDS(\"10XHip2021_seurat.object.rds\")"
   ]
  },
  {
   "cell_type": "code",
   "execution_count": null,
   "metadata": {},
   "outputs": [],
   "source": [
    "# Use 'subclass' as idents\n",
    "Idents(object = hip) <- \"subclass\""
   ]
  },
  {
   "cell_type": "markdown",
   "metadata": {},
   "source": [
    "### Map: reference for t-SNE reduction with all cells clustered by cell type/subclass"
   ]
  },
  {
   "cell_type": "code",
   "execution_count": null,
   "metadata": {},
   "outputs": [],
   "source": [
    "DimPlot(hip, \n",
    "        reduction = \"tsne\", \n",
    "        label = TRUE, \n",
    "        pt.size=0.5, \n",
    "        label.size = 6, \n",
    "        cols=c('CA1-ProS'='skyblue', 'CA2'='lightseagreen', 'CA3'='steelblue','DG'='slategray2',\n",
    "        'Lamp5'='violetred4','Pvalb'='mediumvioletred','Sncg'='palevioletred1','Sst'='pink1',\n",
    "        'Vip'='palevioletred3', 'Endo'='forestgreen', 'Micro-PVM'='yellowgreen', 'Oligo'='orange2',\n",
    "        'Astro'='sienna3')) + \n",
    "        xlim(-40,40) + ylim(-40,40) + \n",
    "        theme(axis.title.x=element_text(size=40), \n",
    "              axis.title.y=element_text(size=40), \n",
    "              axis.text.x = element_text(size = 40), \n",
    "              axis.text.y = element_text(size = 40)) + \n",
    "        NoLegend()"
   ]
  },
  {
   "cell_type": "markdown",
   "metadata": {},
   "source": [
    "### Gene expression: t-SNE reduction (FeaturePlot)"
   ]
  },
  {
   "cell_type": "code",
   "execution_count": null,
   "metadata": {},
   "outputs": [],
   "source": [
    "gene = \"any_gene_of_interest\" # e.g \"Nr3c1\"\n",
    "\n",
    "# tSNE (scaled relative expression - from 1 to 3 = low/medium/high)\n",
    "\n",
    "FeaturePlot(hip, \n",
    "            features = gene, \n",
    "            cols = c(\"lightgrey\",\"mediumpurple1\",\"blue\"), \n",
    "            coord.fixed = TRUE) + \n",
    "            xlim(-40,40) + ylim(-40,40) + \n",
    "            theme(axis.title.x=element_text(size=40),\n",
    "                  title = element_text(size=48), \n",
    "                  axis.title.y=element_text(size=40), \n",
    "                  axis.text.x = element_text(size = 40), \n",
    "                  axis.text.y = element_text(size = 40), \n",
    "                  legend.title = element_text(size=40),\n",
    "                  legend.text = element_text(size=20))"
   ]
  },
  {
   "cell_type": "markdown",
   "metadata": {},
   "source": [
    "### Gene expression: violin plot (VlnPlot)"
   ]
  },
  {
   "cell_type": "code",
   "execution_count": null,
   "metadata": {},
   "outputs": [],
   "source": [
    "gene = \"any_gene_of_interest\" # e.g \"Nr3c1\"\n",
    "\n",
    "# Violin plot (log-normalized expression level)\n",
    "\n",
    "VlnPlot(hip, \n",
    "        features = gene, \n",
    "        cols = c('CA1-ProS'='skyblue', 'CA2'='lightseagreen', 'CA3'='steelblue', \n",
    "          'DG'='slategray2','Lamp5'='violetred4','Pvalb'='mediumvioletred','Sncg'='palevioletred1','Sst'='pink1',\n",
    "          'Vip'='palevioletred3','Endo'='forestgreen', 'Micro-PVM'='yellowgreen', 'Oligo'='orange2', \n",
    "          'Astro'='sienna3'), pt.size = 0.1) + \n",
    "        theme(axis.title.x=element_blank(),\n",
    "              title = element_text(size=48), \n",
    "              axis.title.y=element_text(size=40), \n",
    "              axis.text.x = element_text(size = 40), \n",
    "              axis.text.y = element_text(size = 40), \n",
    "              legend.title = element_text(size=40),\n",
    "              legend.text = element_text(size=20)) + \n",
    "        NoLegend()"
   ]
  },
  {
   "cell_type": "markdown",
   "metadata": {},
   "source": [
    "### Statistics on Nr3c1 and Nr3c2 expression"
   ]
  },
  {
   "cell_type": "markdown",
   "metadata": {},
   "source": [
    "##### For all hippocampus"
   ]
  },
  {
   "cell_type": "code",
   "execution_count": null,
   "metadata": {},
   "outputs": [],
   "source": [
    "# Average expression data for genes of interest such as Nr3c1 and Nr3c2\n",
    "genes = c(\"Nr3c1\",\"Nr3c2\")\n",
    "dotplot = DotPlot(hip, features = genes, assay=\"RNA\")\n",
    "\n",
    "data = dotplot$data # 'data' will contain the average expression for all genes of interest in all cell types"
   ]
  },
  {
   "cell_type": "code",
   "execution_count": null,
   "metadata": {},
   "outputs": [],
   "source": [
    "# Create one vector per gene, with the average expression for each cell type/subclass\n",
    "Nr3c1 <- data$avg.exp[data$features.plot == \"Nr3c1\"]\n",
    "Nr3c2 <- data$avg.exp[data$features.plot == \"Nr3c2\"]"
   ]
  },
  {
   "cell_type": "code",
   "execution_count": null,
   "metadata": {},
   "outputs": [],
   "source": [
    "# Wilcox test to determined the significance of Nr3c1 and Nr3c2 expression \n",
    "# differential expression throughout all cells\n",
    "\n",
    "wilcox.test(Nr3c1, Nr3c2, paired = TRUE, alternative = \"two.sided\")"
   ]
  },
  {
   "cell_type": "markdown",
   "metadata": {},
   "source": [
    "##### Per cell type/subclass"
   ]
  },
  {
   "cell_type": "code",
   "execution_count": null,
   "metadata": {},
   "outputs": [],
   "source": [
    "# Select the data for a specific cell type/subclass\n",
    "data.region <- data[data$id == \"subclass_of_interest\",]\n",
    "Nr3c1 <- data.region$avg.exp[data.region$features.plot == \"Nr3c1\"]\n",
    "Nr3c2 <- data.region$avg.exp[data.region$features.plot == \"Nr3c2\"]\n",
    "\n",
    "# Calculate the log-normalized ratio between Nr3c1 and Nr3c2 expression\n",
    "\n",
    "log2(Nr3c2/Nr3c1) # When Nr3c2 > Nr3c1, or the other way if Nr3c2 < Nr3c1"
   ]
  },
  {
   "cell_type": "code",
   "execution_count": null,
   "metadata": {},
   "outputs": [],
   "source": [
    "# Test significance of the differential expression\n",
    "# Genes of interest expression in all cells throughout all cell types/subclasses\n",
    "data.Nr3c1 = VlnPlot(hip, features = \"Nr3c1\", assay=\"RNA\")$data\n",
    "data.Nr3c2 = VlnPlot(hip, features = \"Nr3c2\", assay=\"RNA\")$data \n",
    "\n",
    "# Extract cell type/subclass specific data\n",
    "data.Nr3c1 <- data.Nr3c1[data.Nr3c1$ident == \"subclass_of_interest\",]\n",
    "data.Nr3c2 <- data.Nr3c2[data.Nr3c2$ident == \"subclass_of_interest\",]\n",
    "\n",
    "# Select data columns containing feature expression per cell (the column uses the gene name)\n",
    "Nr3c1 <- data.Nr3c1$Nr3c1\n",
    "Nr3c2 <- data.Nr3c2$Nr3c2\n",
    "\n",
    "# Wilcox test\n",
    "wilcox.test(Nr3c1, Nr3c2, paired = TRUE, alternative = \"two.sided\")"
   ]
  },
  {
   "cell_type": "markdown",
   "metadata": {},
   "source": [
    "### Differential expression analysis"
   ]
  },
  {
   "cell_type": "code",
   "execution_count": null,
   "metadata": {},
   "outputs": [],
   "source": [
    "wilcox.DEA <- FindAllMarkers(object = hip, test.use = 'wilcox', \n",
    "                                    logfc.threshold = 0.25, min.pct = 0.1, only.pos = TRUE)"
   ]
  },
  {
   "cell_type": "code",
   "execution_count": null,
   "metadata": {},
   "outputs": [],
   "source": [
    "write.table(wilcox.DEA, file='/path/file_name.tsv', quote=FALSE, sep='\\t')"
   ]
  },
  {
   "cell_type": "markdown",
   "metadata": {},
   "source": [
    "### Comparable expression of several genes of interest: DotPlot"
   ]
  },
  {
   "cell_type": "code",
   "execution_count": null,
   "metadata": {},
   "outputs": [],
   "source": [
    "genes = c(\"all_genes_of_interest\")\n",
    "\n",
    "# Dot plot displaying percentage of positive cells (pct.exp) and the z-score (avg.exp.scaled)\n",
    "\n",
    "DotPlot(hip, features = genes, assay=\"RNA\") + \n",
    "        geom_point(mapping = aes_string(size = 'pct.exp', color = 'avg.exp.scaled')) +\n",
    "        guides(color = guide_colorbar(title = 'z-score'), \n",
    "        size = guide_legend(title = 'Percentage of positive cells')) + \n",
    "        scale_colour_gradient2(low = \"white\", mid = \"#a6bddb\", high = \"#253494\") +\n",
    "        scale_size(range = c(1,8), breaks = c(0,25,50,75,100)) + \n",
    "        theme(axis.title.x=element_blank(),\n",
    "              title = element_text(size=48), \n",
    "              axis.title.y=element_blank(),\n",
    "              axis.text.x = element_text(size = 20, angle = 90, vjust = 0.7), \n",
    "              axis.text.y = element_text(size = 20), \n",
    "              legend.title = element_text(size=20),\n",
    "              legend.text = element_text(size=20))"
   ]
  },
  {
   "cell_type": "markdown",
   "metadata": {},
   "source": [
    "### Percentage of positive cells for a gene throughout all cell types/subclasses "
   ]
  },
  {
   "cell_type": "code",
   "execution_count": 49,
   "metadata": {},
   "outputs": [],
   "source": [
    "genes = c(\"all_genes_of_interest\")\n",
    "data = DotPlot(hip, features = genes)$data\n",
    "\n",
    "# Compare all cell types/subclasses for one gene\n",
    "ggplot(data, aes(fill=id, y=pct.exp, x=features.plot)) + \n",
    "       geom_bar(position=\"dodge\", stat=\"identity\") + \n",
    "       scale_fill_manual(\"Cell types\", values = c('CA1-ProS'='skyblue', 'CA2'='lightseagreen','CA3'='steelblue',\n",
    "                         'DG'='slategray2','Lamp5'='violetred4','Pvalb'='mediumvioletred','Sncg'='palevioletred1',\n",
    "                         'Sst'='pink1','Vip'='palevioletred3','Endo'='forestgreen','Micro-PVM'='yellowgreen', \n",
    "                         'Oligo'='orange2','Astro'='sienna3')) + \n",
    "       ylab(\"Percentage of positive cells\") + \n",
    "       ylim(0,100) + \n",
    "       theme_minimal() + \n",
    "       theme(axis.title.x=element_blank(), \n",
    "             axis.title.y=element_text(size=24), \n",
    "             axis.text.x = element_text(size = 20), \n",
    "             axis.text.y = element_text(size = 20))\n",
    "\n",
    "# Compare two genes within one cell type/subclass\n",
    "ggplot(data, aes(fill=features.plot, y=pct.exp, x=id)) + \n",
    "       geom_bar(position=\"dodge\", stat=\"identity\") + \n",
    "       scale_fill_manual(\"Features\", values = c(\"gene1\" = \"gray47\",\"gene2\" = \"gray87\")) + \n",
    "       ylab(\"Percentage of positive cells\") + \n",
    "       ylim(0,100) + \n",
    "       theme_minimal() + \n",
    "       theme(axis.title.x=element_blank(),\n",
    "             title = element_text(size=40), \n",
    "             axis.title.y= element_blank(),\n",
    "             axis.text.x = element_text(size = 20, angle = 45, hjust = 1), \n",
    "             axis.text.y = element_text(size = 20), \n",
    "             legend.title = element_text(size=20),\n",
    "             legend.text = element_text(size=20))"
   ]
  },
  {
   "cell_type": "markdown",
   "metadata": {},
   "source": [
    "### Number of cells per cell type"
   ]
  },
  {
   "cell_type": "code",
   "execution_count": null,
   "metadata": {},
   "outputs": [],
   "source": [
    "# The table gives the number of cells per cell type/subclass\n",
    "table(Idents(hip))\n",
    "\n",
    "# Create one vector for cell types/subclasses (cells) and one for the number of cells (counts)\n",
    "cells <- c(\"DG\", \"CA1-ProS\",\"CA3\",\"Lamp5\",\"Astro\",\"Oligo\",\"Sncg\",\"Vip\",\"CA2\",\"Sst\",\"Micro-PVM\",\"Endo\",\"Pvalb\")\n",
    "counts <- c(58566,13221,1899,1372,488,465,279,261,143,111,74,73,49)\n",
    "\n",
    "# Create dataframe with counts per cell types/subclasses\n",
    "data <- data.frame(\"cells\" = cells,\"counts\" = counts)\n",
    "\n",
    "# Bar plot number of cells\n",
    "ggplot(data, mapping = aes(x=reorder(cells,counts), counts)) + \n",
    "       geom_bar(position=\"dodge\", stat=\"identity\")+  \n",
    "       ylim(0,60000) + \n",
    "       theme_minimal() + \n",
    "       theme(axis.title.x=element_blank(), \n",
    "             axis.title.y=element_blank(), \n",
    "             axis.text.x = element_text(size = 40), \n",
    "             axis.text.y = element_text(size = 40)) + \n",
    "       coord_flip()"
   ]
  },
  {
   "cell_type": "markdown",
   "metadata": {},
   "source": [
    "### Split violin plots by features - Allows direct comparison between two genes such as Nr3c1 and Nr3c2"
   ]
  },
  {
   "cell_type": "code",
   "execution_count": null,
   "metadata": {},
   "outputs": [],
   "source": [
    "# Add one column for cell name in metadata based on metadata rownames\n",
    "hip@meta.data$cell_name <- rownames(hip@meta.data)"
   ]
  },
  {
   "cell_type": "code",
   "execution_count": null,
   "metadata": {},
   "outputs": [],
   "source": [
    "# Create dataset for Nr3c1\n",
    "gene = \"Nr3c1\"\n",
    "vlnplot = VlnPlot(data, features = gene)\n",
    "data.Nr3c1 <- vlnplot$data$Nr3c1 # Nr3c1 expression for all cells\n",
    "Nr3c1 <- hip\n",
    "Nr3c1@meta.data$exp <- data.Nr3c1\n",
    "Nr3c1@meta.data$feature <- \"Nr3c1\""
   ]
  },
  {
   "cell_type": "code",
   "execution_count": null,
   "metadata": {},
   "outputs": [],
   "source": [
    "# Create dataset for Nr3c2\n",
    "gene = \"Nr3c2\"\n",
    "vlnplot = VlnPlot(data, features = gene)\n",
    "data.Nr3c2 <- vlnplot$data$Nr3c2\n",
    "Nr3c2 <- hip\n",
    "Nr3c2@meta.data$exp <- data.Nr3c2\n",
    "Nr3c2@meta.data$feature <- \"Nr3c2\""
   ]
  },
  {
   "cell_type": "code",
   "execution_count": null,
   "metadata": {},
   "outputs": [],
   "source": [
    "# Combine the 2 datasets\n",
    "hip.combined <- merge(Nr3c1, y = Nr3c2, add.cell.ids = c(\"GR\", \"MR\"), project = \"hip.combined\")\n",
    "Idents(object = hip.combined) <- \"subclass\"\n",
    "table(hip.combined$feature) # There should be the same number of cells for both feature"
   ]
  },
  {
   "cell_type": "code",
   "execution_count": null,
   "metadata": {},
   "outputs": [],
   "source": [
    "# Violin plot\n",
    "\n",
    "VlnPlot(hip.combined, \n",
    "        features = \"exp\", \n",
    "        pt.size = 0.1, \n",
    "        split.by = \"feature\",\n",
    "        cols = c(\"Nr3c1\" = \"gray47\",\"Nr3c2\" = \"gray87\")) + \n",
    "        theme(axis.title.x=element_blank(),\n",
    "              title = element_text(size=40), \n",
    "              axis.title.y= element_blank(), \n",
    "              axis.text.x = element_text(size = 20), \n",
    "              axis.text.y = element_text(size = 20), \n",
    "              legend.title = element_text(size=20),\n",
    "              legend.text = element_text(size=20)) + \n",
    "        ggtitle(\"Expression level\")"
   ]
  },
  {
   "cell_type": "markdown",
   "metadata": {},
   "source": [
    "### Split violin plots using metadata such as the sex of the mouse from which the cells were isolated from."
   ]
  },
  {
   "cell_type": "code",
   "execution_count": null,
   "metadata": {},
   "outputs": [],
   "source": [
    "# Group by subclass\n",
    "Idents(object = hip) <- \"subclass\"\n",
    "\n",
    "# Split violin plot\n",
    "VlnPlot(hip, features = \"Ar\", pt.size = 0.1, split.by = \"sex\", \n",
    "        cols = c(\"M\" = \"mistyrose2\", \"F\" = \"azure2\")) + \n",
    "        theme(axis.title.x=element_blank(),\n",
    "              title = element_text(size=48), \n",
    "              axis.title.y=element_text(size=40), \n",
    "              axis.text.x = element_text(size = 40), \n",
    "              axis.text.y = element_text(size = 40), \n",
    "              legend.title = element_text(size=40),\n",
    "              legend.text = element_text(size=20)) + \n",
    "        NoLegend()"
   ]
  },
  {
   "cell_type": "markdown",
   "metadata": {},
   "source": [
    "### Gene expression within one cell type/subclass - Deeper clustering"
   ]
  },
  {
   "cell_type": "code",
   "execution_count": null,
   "metadata": {},
   "outputs": [],
   "source": [
    "# Group by subclass\n",
    "Idents(object = hip) <- \"subclass\"\n",
    "\n",
    "# Subset a subclass of interest ('SOI')\n",
    "SOI_cells <- hip@meta.data$cell_name[hip@meta.data$subclass =='any_SOI']\n",
    "hip.SOI <- subset(hip, cells = SOI_cells)\n",
    "\n",
    "# Look into the subclusters\n",
    "Idents(object = hip.SOI) <- \"cluster\"\n",
    "table(Idents(hip.SOI))\n",
    "\n",
    "# Map of the cell type/subclass with all subclusters. \n",
    "# As an example, in our paper the selected SOI was the Dentate Gyrus (DG):\n",
    "DimPlot(hip.SOI, \n",
    "        reduction = \"tsne\", \n",
    "        label = FALSE, \n",
    "        pt.size=0.5, \n",
    "        cols=c('120_DG'='royalblue4','121_DG'='turquoise4','122_DG'='seashell4',\n",
    "               '123_DG'='paleturquoise2','124_DG'='slategray','125_DG'='slategray2')) + \n",
    "        xlim(-40,40) + ylim(-40,40) + \n",
    "        theme(axis.title.x=element_text(size=40), \n",
    "              axis.title.y=element_text(size=40), \n",
    "              axis.text.x = element_text(size = 40), \n",
    "              axis.text.y = element_text(size = 40))\n",
    "\n",
    "# Looking at one gene of interest with a t-SNE reduction\n",
    "\n",
    "gene = \"any_gene_of_interest\"\n",
    "\n",
    "FeaturePlot(hip.SOI, \n",
    "            features = gene, \n",
    "            cols = c(\"lightgrey\",\"mediumpurple1\",\"blue\"), \n",
    "            coord.fixed = TRUE) + \n",
    "            xlim(-40,40) + ylim(-40,40) + \n",
    "            theme(axis.title.x=element_text(size=40),\n",
    "                  title = element_text(size=48), \n",
    "                  axis.title.y=element_text(size=40), \n",
    "                  axis.text.x = element_text(size = 40), \n",
    "                  axis.text.y = element_text(size = 40), \n",
    "                  legend.title = element_text(size=40),\n",
    "                  legend.text = element_text(size=20))\n",
    "\n",
    "# Looking at one gene of interest with a violin plot\n",
    "\n",
    "gene = \"any_gene_of_interest\"\n",
    "\n",
    "VlnPlot(hip.SOI, \n",
    "        features = gene, \n",
    "        cols = c('120_DG'='royalblue4','121_DG'='turquoise4','122_DG'='seashell4',\n",
    "                 '123_DG'='paleturquoise2','124_DG'='slategray','125_DG'='slategray2'), \n",
    "        pt.size = 0.1) + \n",
    "        theme(axis.title.x=element_blank(),\n",
    "              title = element_text(size=48), \n",
    "              axis.title.y=element_text(size=40), \n",
    "              axis.text.x = element_text(size = 40), \n",
    "              axis.text.y = element_text(size = 40), \n",
    "              legend.title = element_text(size=40),\n",
    "              legend.text = element_text(size=20)) + \n",
    "        NoLegend()"
   ]
  }
 ],
 "metadata": {
  "kernelspec": {
   "display_name": "R",
   "language": "R",
   "name": "ir"
  },
  "language_info": {
   "codemirror_mode": "r",
   "file_extension": ".r",
   "mimetype": "text/x-r-source",
   "name": "R",
   "pygments_lexer": "r",
   "version": "3.6.1"
  }
 },
 "nbformat": 4,
 "nbformat_minor": 4
}
