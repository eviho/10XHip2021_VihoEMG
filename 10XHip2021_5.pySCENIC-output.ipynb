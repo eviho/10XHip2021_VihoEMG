{
 "cells": [
  {
   "cell_type": "markdown",
   "metadata": {},
   "source": [
    "# Visualization pySCENIC output\n",
    "\n",
    "The present study is based on the 10X scRNA-seq dataset published by the Allen Institute for Brain Science and publicly available at: https://portal.brain-map.org/atlases-and-data/RNA-seq/mouse-whole-cortex-and-hippocampus-10x. The data was then clustered, and cluster names were assigned based on the Allen Institute proposal for cell type nomenclature (https://portal.brain-map.org/explore/classes/nomenclature). The topology of the taxonomy allowed to define the sex of the mouse from which the cells were isolated, the regions of interest, cell classes (glutamatergic, GABAergic or Non-Neuronal) and subclasses. This information was stored in the metadata table. The metadata was used to subset cells of the hippocampus region from the gene expression matrix. We selected for 13 subclasses of hippocampal cells. The hippocampus gene count matrix was pre-processed in R v3.6.1 according to the Seurat v3.1.5 standard pre-processing workflow for quality control, normalization, and analysis of scRNA-seq data (cf. 10XHip2021_Pre.Processing). It was transform in a loom object and used as input for the pySCENIC workflow (cf. 10XHip2021_4.pySCENIC-workflow).\n",
    "\n",
    "# Description\n",
    "\n",
    "Here we describe how we obtained the figures for gene regulatory network activity, using pySCENIC output.\n",
    "\n",
    "# Data availability\n",
    "\n",
    "cf. README to download pySCENIC output '10XHip2021_GRN.matrix.csv'"
   ]
  },
  {
   "cell_type": "markdown",
   "metadata": {},
   "source": [
    "# Pre-processing"
   ]
  },
  {
   "cell_type": "markdown",
   "metadata": {},
   "source": [
    "### 1. Load data and required libraries"
   ]
  },
  {
   "cell_type": "code",
   "execution_count": null,
   "metadata": {},
   "outputs": [],
   "source": [
    "# Load libraries\n",
    "library(dplyr)\n",
    "library(Seurat)\n",
    "library(tidyverse)\n",
    "library(ggplot2)"
   ]
  },
  {
   "cell_type": "code",
   "execution_count": null,
   "metadata": {},
   "outputs": [],
   "source": [
    "# Load gene regulatory network (GRN) matrix\n",
    "GRN <- read.delim2(\"/path/10XHip2021_GRN.matrix.csv\", sep = ',')\n",
    "row.names(GRN) <- GRN$Cell\n",
    "GRN <- GRN[-1]\n",
    "\n",
    "# Load original metadata from the portal brain map website\n",
    "metadata <- read.delim2(\"/path/file_name.csv\", sep = ',')\n",
    "row.names(metadata) <- metadata$X\n",
    "metadata <- metadata[-1]"
   ]
  },
  {
   "cell_type": "markdown",
   "metadata": {},
   "source": [
    "### 2. Replace column names by gene names (meaning: remove the (+) sign)"
   ]
  },
  {
   "cell_type": "code",
   "execution_count": 4,
   "metadata": {},
   "outputs": [],
   "source": [
    "names(GRN) <- str_replace(names(GRN),\"\\\\.\\\\.\\\\.\",\"\\\\(\\\\+\\\\)\")"
   ]
  },
  {
   "cell_type": "markdown",
   "metadata": {},
   "source": [
    "### 3. Create Seurat object and AddMetaData"
   ]
  },
  {
   "cell_type": "code",
   "execution_count": null,
   "metadata": {},
   "outputs": [],
   "source": [
    "# Create Seurat object\n",
    "hip_reg <- CreateSeuratObject(counts = t(GRN)) # Total of 379 GRNs"
   ]
  },
  {
   "cell_type": "code",
   "execution_count": null,
   "metadata": {},
   "outputs": [],
   "source": [
    "# AddMetaData\n",
    "# Class\n",
    "classLabels <- metadata$class\n",
    "names(classLabels) <- row.names(metadata)\n",
    "hip_reg <- AddMetaData(hip_reg, classLabels, col.name='class')\n",
    "# Subclass\n",
    "subclassLabels <- metadata$subclass\n",
    "names(subclassLabels) <- row.names(metadata)\n",
    "hip_reg <- AddMetaData(hip_reg, subclassLabels, col.name='subclass')\n",
    "# Cluster\n",
    "clusterLabels <- metadata$cluster\n",
    "names(clusterLabels) <- row.names(metadata)\n",
    "hip_reg <- AddMetaData(hip_reg, clusterLabels, col.name='cluster')"
   ]
  },
  {
   "cell_type": "markdown",
   "metadata": {},
   "source": [
    "### 4. Normalization"
   ]
  },
  {
   "cell_type": "code",
   "execution_count": null,
   "metadata": {},
   "outputs": [],
   "source": [
    "# Normalization of the data\n",
    "hip_reg <- NormalizeData(hip_reg, normalization.method = \"LogNormalize\", scale.factor = 10000)"
   ]
  },
  {
   "cell_type": "code",
   "execution_count": null,
   "metadata": {},
   "outputs": [],
   "source": [
    "# Identification of the high variable features (genes)\n",
    "hip_reg <- FindVariableFeatures(hip_reg, selection.method = \"vst\", nfeatures = 2000)\n",
    "\n",
    "# Identify the 10 most highly variable genes\n",
    "top10 <- head(VariableFeatures(hip_reg), 10)\n",
    "\n",
    "# Plot variable features with and without labels\n",
    "plot1 <- VariableFeaturePlot(hip_reg)\n",
    "plot2 <- LabelPoints(plot = plot1, points = top10, repel = TRUE, xnudge = 0, ynudge = 0)"
   ]
  },
  {
   "cell_type": "markdown",
   "metadata": {},
   "source": [
    "### 5. Scaling and linear dimensional reduction"
   ]
  },
  {
   "cell_type": "code",
   "execution_count": null,
   "metadata": {},
   "outputs": [],
   "source": [
    "# Scaling the data\n",
    "all.genes <- rownames(hip_reg)\n",
    "hip_reg <- ScaleData(hip_reg, features = all.genes)"
   ]
  },
  {
   "cell_type": "code",
   "execution_count": null,
   "metadata": {},
   "outputs": [],
   "source": [
    "# Perform linear dimensional reduction\n",
    "hip_reg <- RunPCA(hip_reg, features = VariableFeatures(object = hip_reg))\n",
    "#PCA\n",
    "PCA <- DimPlot(hip_reg, reduction = \"pca\", cols = 'black')"
   ]
  },
  {
   "cell_type": "markdown",
   "metadata": {},
   "source": [
    "### 6. Clustering and t-SNE"
   ]
  },
  {
   "cell_type": "code",
   "execution_count": null,
   "metadata": {},
   "outputs": [],
   "source": [
    "# Cluster the cells\n",
    "hip_reg <- FindNeighbors(hip_reg, dims = 1:50)\n",
    "hip_reg <- FindClusters(hip_reg, resolution = 0.5)"
   ]
  },
  {
   "cell_type": "code",
   "execution_count": null,
   "metadata": {},
   "outputs": [],
   "source": [
    "# Annotate cells by subclasses\n",
    "Idents(object = hip_reg) <- \"subclass\""
   ]
  },
  {
   "cell_type": "code",
   "execution_count": null,
   "metadata": {},
   "outputs": [],
   "source": [
    "# t-SNE reduction\n",
    "hip_reg <- RunTSNE(hip_reg, reduction = \"pca\", dims = 1:30, perplexity = 30, max_iter = 1000)"
   ]
  },
  {
   "cell_type": "code",
   "execution_count": null,
   "metadata": {},
   "outputs": [],
   "source": [
    "# Save final object as RDS file\n",
    "saveRDS(hip_reg, file = \"/path/file_name.rds\")"
   ]
  },
  {
   "cell_type": "markdown",
   "metadata": {},
   "source": [
    "# Expression gene regulatory network (GRN) activity"
   ]
  },
  {
   "cell_type": "markdown",
   "metadata": {},
   "source": [
    "### 1. t-SNE map"
   ]
  },
  {
   "cell_type": "code",
   "execution_count": null,
   "metadata": {},
   "outputs": [],
   "source": [
    "DimPlot(hip_reg, reduction = \"tsne\", label = TRUE, pt.size=0.5, label.size = 6, \n",
    "                          cols=c('CA1-ProS'='skyblue', 'CA2'='lightseagreen', 'CA3'='steelblue', \n",
    "                                 'DG'='slategray2','Lamp5'='violetred4','Pvalb'='mediumvioletred',\n",
    "                                 'Sncg'='palevioletred1','Sst'='pink1','Vip'='palevioletred3', \n",
    "                                 'Endo'='forestgreen', 'Micro-PVM'='yellowgreen', 'Oligo'='orange2', \n",
    "                                 'Astro'='sienna3'))  + xlim(-40,40) + ylim(-40,40) + \n",
    "                          theme(axis.title.x=element_text(size=40), \n",
    "                          axis.title.y=element_text(size=40), axis.text.x = element_text(size = 40), \n",
    "                          axis.text.y = element_text(size = 40)) + NoLegend()"
   ]
  },
  {
   "cell_type": "markdown",
   "metadata": {},
   "source": [
    "### 2. Differential activity analysis: which GRNs are more active in which cell types?"
   ]
  },
  {
   "cell_type": "code",
   "execution_count": null,
   "metadata": {},
   "outputs": [],
   "source": [
    "wilcox.enrichment <- FindAllMarkers(object = hip_reg, test.use = 'wilcox', \n",
    "                                    logfc.threshold = 0.25, min.pct = 0.1, only.pos = TRUE)"
   ]
  },
  {
   "cell_type": "markdown",
   "metadata": {},
   "source": [
    "### 3. Display a network activity as t-SNE or violin plot"
   ]
  },
  {
   "cell_type": "code",
   "execution_count": null,
   "metadata": {},
   "outputs": [],
   "source": [
    "network = \"GRN_of_interest(+)\"\n",
    "# tSNE (relative expression - scale from 1 to 3 = low/medium/high)\n",
    "\n",
    "tSNE.hip = FeaturePlot(hip_reg, features = network, cols = c(\"lightgrey\",\"mediumpurple1\",\"blue\"), \n",
    "            coord.fixed = TRUE) + xlim(-40,40) + ylim(-40,40) + theme(axis.title.x=element_text(size=40),\n",
    "            title = element_text(size=48), axis.title.y=element_text(size=40), \n",
    "            axis.text.x = element_text(size = 40), axis.text.y = element_text(size = 40), \n",
    "            legend.title = element_text(size=40),legend.text = element_text(size=20))\n",
    "\n",
    "# Violin plot\n",
    "vlnplot = VlnPlot(hip_reg, features = network, cols = c('CA1-ProS'='skyblue', 'CA2'='lightseagreen', 'CA3'='steelblue', \n",
    "          'DG'='slategray2','Lamp5'='violetred4','Pvalb'='mediumvioletred','Sncg'='palevioletred1','Sst'='pink1',\n",
    "          'Vip'='palevioletred3','Endo'='forestgreen', 'Micro-PVM'='yellowgreen', 'Oligo'='orange2', \n",
    "          'Astro'='sienna3'), pt.size = 0.1) + theme(axis.title.x=element_blank(),title = element_text(size=48), \n",
    "           axis.title.y=element_text(size=40),axis.text.x = element_text(size = 40), \n",
    "           axis.text.y = element_text(size = 40), legend.title = element_text(size=40),\n",
    "           legend.text = element_text(size=20)) + NoLegend()"
   ]
  },
  {
   "cell_type": "markdown",
   "metadata": {},
   "source": [
    "### 4. Heatmap of all GRNs"
   ]
  },
  {
   "cell_type": "code",
   "execution_count": null,
   "metadata": {},
   "outputs": [],
   "source": [
    "# Networks of interest \n",
    "networks <- c('2010315B03Rik(+)','4921501E09Rik(+)','6720489N17Rik(+)','AI987944(+)','Arid3a(+)','Aspscr1(+)',\n",
    "              'Atf3(+)','Atf4(+)','Atf6b(+)','B230307C23Rik(+)','Bach1(+)','Bach2(+)','Barhl2(+)','Batf(+)',\n",
    "              'Bcl3(+)','Bclaf1(+)','Bhlhe22(+)','Bhlhe23(+)','Bhlhe40(+)','Bhlhe41(+)','Bmyc(+)','Brf1(+)',\n",
    "              'Brf2(+)','Cbfb(+)','Cebpa(+)','Cebpb(+)','Cebpd(+)','Cebpz(+)','Chd1(+)','Chd2(+)','Clock(+)',\n",
    "              'Cpsf4(+)','Creb3(+)','Creb3l1(+)','Creb3l2(+)','Crem(+)','Ctcf(+)','Cux1(+)','Dbp(+)','Dbx2(+)',\n",
    "              'Ddit3(+)','Deaf1(+)','Dlx1(+)','Dlx2(+)','Dlx5(+)','Dlx6(+)','Dmrta2(+)','E2f1(+)','E2f3(+)',\n",
    "              'E2f4(+)','E2f6(+)','E2f7(+)','E4f1(+)','Ebf1(+)','Egr1(+)','Egr2(+)','Egr3(+)','Egr4(+)','Elf1(+)',\n",
    "              'Elf4(+)','Elk1(+)','Elk3(+)','Elk4(+)','Emx2(+)','Eomes(+)','Ep300(+)','Erf(+)','Erg(+)','Esr2(+)',\n",
    "              'Esrra(+)','Esrrg(+)','Ets1(+)','Etv6(+)','Ewsr1(+)','Ezh2(+)','Fank1(+)','Fli1(+)','Fos(+)',\n",
    "              'Fosb(+)','Fosl1(+)','Fosl2(+)','Foxc1(+)','Foxf2(+)','Foxg1(+)','Foxh1(+)','Foxj3(+)','Foxk1(+)',\n",
    "              'Foxn2(+)','Foxn3(+)','Foxo1(+)','Foxo3(+)','Foxo4(+)','Foxp1(+)','Foxp2(+)','Foxq1(+)','Fubp1(+)',\n",
    "              'Gabpa(+)','Gabpb1(+)','Gadd45a(+)','Gata2(+)','Gata6(+)','Glis2(+)','Gm14326(+)','Gm14403(+)',\n",
    "              'Gm43517(+)','Gmeb1(+)','Gmeb2(+)','Grhl1(+)','Gsc2(+)','Gsx1(+)','Gsx2(+)','Gtf2f1(+)','Hbp1(+)',\n",
    "              'Hcfc1(+)','Hdac2(+)','Hdac3(+)','Hdac6(+)','Hes1(+)','Hey1(+)','Hic1(+)','Hlf(+)','Hmga1(+)',\n",
    "              'Hnf1a(+)','Hsf3(+)','Hspa5(+)','Ikzf1(+)','Irf1(+)','Irf2(+)','Irf3(+)','Irf4(+)','Irf5(+)',\n",
    "              'Irf7(+)','Irf9(+)','Irx2(+)','Irx5(+)','Jdp2(+)','Jun(+)','Junb(+)','Jund(+)','Kat2a(+)','Kdm5a(+)',\n",
    "              'Kdm5b(+)','Klf10(+)','Klf11(+)','Klf13(+)','Klf14(+)','Klf16(+)','Klf2(+)','Klf3(+)','Klf4(+)',\n",
    "              'Klf6(+)','Klf8(+)','Klf9(+)','Klrg1(+)','Lef1(+)','Lhx1(+)','Lhx5(+)','Lhx6(+)','Lhx9(+)','Maf(+)',\n",
    "              'Mafb(+)','Maff(+)','Mafg(+)','Max(+)','Maz(+)','Mbd4(+)','Mecom(+)','Mef2a(+)','Mef2b(+)','Mef2c(+)',\n",
    "              'Mef2d(+)','Meis1(+)','Meis3(+)','Mkx(+)','Mlx(+)','Mlxip(+)','Mnt(+)','Msc(+)','Mxi1(+)','Myc(+)',\n",
    "              'Mycn(+)','Mylk(+)','Nelfe(+)','Neurod2(+)','Nfat5(+)','Nfatc1(+)','Nfatc4(+)','Nfe2l1(+)',\n",
    "              'Nfe2l2(+)','Nfe2l3(+)','Nfia(+)','Nfic(+)','Nfil3(+)','Nfkb1(+)','Nfya(+)','Nfyb(+)','Nhlh1(+)',\n",
    "              'Nkx2.1(+)','Nkx2.2(+)','Nkx6.2(+)','Nkx6.3(+)','Npdc1(+)','Nr1d1(+)','Nr1h2(+)','Nr1h3(+)',\n",
    "              'Nr1h4(+)','Nr2c2(+)','Nr2f6(+)','Nrf1(+)','Nrl(+)','Odc1(+)','Olig2(+)','Onecut2(+)','Osr1(+)',\n",
    "              'Otx1(+)','Otx2(+)','Pax2(+)','Pax5(+)','Pax6(+)','Pbx1(+)','Pdlim5(+)','Phf8(+)','Phox2a(+)',\n",
    "              'Pir(+)','Pml(+)','Pold2(+)','Polr3a(+)','Polr3g(+)','Pou2f1(+)','Pou2f3(+)','Pou3f1(+)','Pou3f2(+)',\n",
    "              'Pou3f3(+)','Pou4f1(+)','Pou6f1(+)','Ppara(+)','Ppard(+)','Ppargc1a(+)','Pqbp1(+)','Prdm1(+)',\n",
    "              'Prdm14(+)','Prdm16(+)','Prdm4(+)','Prdm9(+)','Prox1(+)','Psma6(+)','Psmd12(+)','Rad21(+)','Rara(+)',\n",
    "              'Rarg(+)','Rbbp5(+)','Rbm7(+)','Rcor1(+)','Rel(+)','Rela(+)','Rest(+)','Rfx7(+)','Rfxap(+)','Rora(+)',\n",
    "              'Rreb1(+)','Runx1(+)','Ruvbl1(+)','Rxra(+)','Sall2(+)','Sall4(+)','Sap30(+)','Setdb1(+)','Sin3a(+)',\n",
    "              'Sirt6(+)','Six4(+)','Smad1(+)','Smad5(+)','Smad6(+)','Smad9(+)','Smarca4(+)','Smarcc1(+)',\n",
    "              'Smarcc2(+)','Smc3(+)','Sox1(+)','Sox10(+)','Sox11(+)','Sox12(+)','Sox13(+)','Sox17(+)','Sox2(+)',\n",
    "              'Sox21(+)','Sox4(+)','Sox8(+)','Sox9(+)','Sp1(+)','Sp2(+)','Sp3(+)','Sp5(+)','Spi1(+)','Srebf1(+)',\n",
    "              'Srebf2(+)','Srf(+)','Stat1(+)','Stat2(+)','Stat3(+)','Stat5a(+)','Stat5b(+)','Stat6(+)','Supt20(+)',\n",
    "              'Taf1(+)','Tal1(+)','Tbl1xr1(+)','Tbp(+)','Tbr1(+)','Tbx21(+)','Tbx3(+)','Tbx4(+)','Tcf12(+)',\n",
    "              'Tcf3(+)','Tcf7l1(+)','Tcf7l2(+)','Tead1(+)','Tead2(+)','Tead4(+)','Tef(+)','Tfdp1(+)','Tfe3(+)',\n",
    "              'Tfeb(+)','Thap1(+)','Thap11(+)','Traf4(+)','Trip10(+)','Ubp1(+)','Usf1(+)','Usf2(+)','Vax1(+)',\n",
    "              'Vsx2(+)','Xbp1(+)','Xrcc4(+)','Yy1(+)','Zbtb17(+)','Zbtb43(+)','Zbtb46(+)','Zbtb7a(+)','Zc3h7a(+)',\n",
    "              'Zeb1(+)','Zfp110(+)','Zfp128(+)','Zfp143(+)','Zfp239(+)','Zfp263(+)','Zfp286(+)','Zfp30(+)',\n",
    "              'Zfp335(+)','Zfp354a(+)','Zfp369(+)','Zfp46(+)','Zfp523(+)','Zfp558(+)','Zfp560(+)','Zfp595(+)',\n",
    "              'Zfp597(+)','Zfp607b(+)','Zfp62(+)','Zfp64(+)','Zfp646(+)','Zfp729b(+)','Zfp740(+)','Zfp770(+)',\n",
    "              'Zfp800(+)','Zfp825(+)','Zfp90(+)','Zfp932(+)','Zfp963(+)','Zfp97(+)','Zic1(+)','Zic2(+)','Zic3(+)',\n",
    "              'Zic4(+)','Zkscan1(+)','Zmat4(+)','Zmiz1(+)','Zscan29(+)','Zxdb(+)')\n",
    "\n",
    "length(networks) # 379"
   ]
  },
  {
   "cell_type": "code",
   "execution_count": null,
   "metadata": {},
   "outputs": [],
   "source": [
    "# Create dataset from GRN activity \n",
    "data <- DotPlot(hip_reg, features = networks)$data"
   ]
  },
  {
   "cell_type": "code",
   "execution_count": null,
   "metadata": {},
   "outputs": [],
   "source": [
    "# One dataset per cell type\n",
    "Lamp5 <- data$avg.exp[data$id == 'Lamp5']\n",
    "Sncg <- data$avg.exp[data$id == 'Sncg']\n",
    "Sst <- data$avg.exp[data$id == 'Sst']\n",
    "Vip <- data$avg.exp[data$id == 'Vip']\n",
    "Pvalb <- data$avg.exp[data$id == 'Pvalb'] \n",
    "DG <- data$avg.exp[data$id == 'DG']\n",
    "CA1ProS <- data$avg.exp[data$id == 'CA1-ProS']\n",
    "CA2 <- data$avg.exp[data$id == 'CA2']\n",
    "CA3 <- data$avg.exp[data$id == 'CA3']\n",
    "Oligo <- data$avg.exp[data$id == 'Oligo']\n",
    "Astro <- data$avg.exp[data$id == 'Astro']\n",
    "Endo <- data$avg.exp[data$id == 'Endo']\n",
    "MicroPVM <- data$avg.exp[data$id == 'Micro-PVM']\n",
    "\n",
    "# Names GRNs\n",
    "GRN_names <- data$features.plot[data$id == 'Lamp5'] # any cell population will have all GRN names\n",
    "\n",
    "# Cells of interest\n",
    "cells <- c(\"Lamp5\",\"Sncg\",\"Sst\",\"Vip\",\"Pvalb\",\"DG\",\"CA1-ProS\",\"CA2\",\"CA3\",\"Oligo\",\"Astro\",\"Endo\",\"Micro-PVM\")"
   ]
  },
  {
   "cell_type": "code",
   "execution_count": null,
   "metadata": {},
   "outputs": [],
   "source": [
    "# Creation of the matrix\n",
    "mat <- cbind(Lamp5,Sncg,Sst,Vip,Pvalb,DG,CA1ProS,CA2,CA3,Oligo,Astro,Endo,MicroPVM)\n",
    "rownames(mat) <- GRN_names\n",
    "colnames(mat) <- cells"
   ]
  },
  {
   "cell_type": "code",
   "execution_count": null,
   "metadata": {},
   "outputs": [],
   "source": [
    "# Colors heatmaps - Coupling score legend\n",
    "cols = colorRamp2(c(0,100,200,300,400), c('#eff3ff','#bdd7e7','#6baed6','#3182bd','#08519c'))\n",
    "\n",
    "# Heatmap all GRNs in hippocampal cell types\n",
    "heatmap <- Heatmap(mat, cluster_rows = FALSE, row_names_side = \"right\", rect_gp = gpar(col = \"white\", lwd = 1),\n",
    "                      cluster_columns = FALSE, name = \"Network activity\", \n",
    "                      row_names_gp = gpar(fontsize = 12), column_names_gp = gpar(fontsize = 30), \n",
    "                      col = cols, na_col=\"white\")"
   ]
  }
 ],
 "metadata": {
  "kernelspec": {
   "display_name": "R",
   "language": "R",
   "name": "ir"
  },
  "language_info": {
   "codemirror_mode": "r",
   "file_extension": ".r",
   "mimetype": "text/x-r-source",
   "name": "R",
   "pygments_lexer": "r",
   "version": "3.6.1"
  }
 },
 "nbformat": 4,
 "nbformat_minor": 4
}
